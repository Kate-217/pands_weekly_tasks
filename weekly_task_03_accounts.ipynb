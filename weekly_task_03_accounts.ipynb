{
 "cells": [
  {
   "cell_type": "markdown",
   "metadata": {},
   "source": [
    "# Weekly task 03 \n",
    "## accounts.py\n",
    "### The task:\n",
    "\n",
    "Bank account numbers can stored as 10 character strings, for security reasons some applications only display the last 4 characters (with the other other characters replaced with Xs).\n",
    "\n",
    "Write a python program called accounts.py that reads in a 10 character account number and outputs the account number with only the last 4 digits showing (and the first 6 digits replaced with Xs).\n",
    "\n",
    "$ python accounts.py\n",
    "Please enter an 10 digit account number: 1234567890\n",
    "XXXXXX7890"
   ]
  },
  {
   "cell_type": "code",
   "execution_count": 106,
   "metadata": {},
   "outputs": [
    {
     "name": "stdout",
     "output_type": "stream",
     "text": [
      "error\n"
     ]
    }
   ],
   "source": [
    "# References:\n",
    "# https://www.tutorialspoint.com/what-is-the-maximum-length-of-a-string-in-python#:~:text=In%20summary%2C%20there%20is%20no,Python%20version%20you%20are%20using.\n",
    "# https://realpython.com/python-return-statement/#using-return-with-conditionals\n",
    "\n",
    "ac_number = input(\"Enter your 10 digit account number please\") \n",
    "# The number of simbols in account number must be 10, \n",
    "# so I decided to put restrictions: simbols == 10 . If the number is not correct, you will see an error.\n",
    "# I found the way to check the input and return the result\n",
    "# the function bank_account() takes the 10 digit number and return it if condition is true.\n",
    "# Author: K.Lisovenko\n",
    "\n",
    "\n",
    "def bank_account():\n",
    "    \n",
    "    if  len(str((ac_number))) > 10:\n",
    "        reply = \"error\"\n",
    "    elif len(str((ac_number))) < 10:\n",
    "        reply= \"error\"\n",
    "    else: reply = ac_number\n",
    "    return reply\n",
    "ac_number = bank_account()\n",
    "print(ac_number)"
   ]
  },
  {
   "cell_type": "code",
   "execution_count": 107,
   "metadata": {},
   "outputs": [
    {
     "name": "stdout",
     "output_type": "stream",
     "text": [
      "the account number is error\n",
      "the secured number is XXXXXX\n"
     ]
    }
   ],
   "source": [
    "# now I can modify the function to replace the first 6 digit by X \n",
    "# secured_ac_number is the account number with  replaced digits.\n",
    "# To find the solution I used this: \n",
    "# https://bobbyhadz.com/blog/python-replace-first-character-in-string\n",
    "\n",
    "ac_number = input(\"Enter your 10 digit account number please\") \n",
    "\n",
    "def bank_account():\n",
    "    \n",
    "    if  len(str((ac_number))) > 10:\n",
    "        reply = \"error\"\n",
    "    elif len(str((ac_number))) < 10:\n",
    "        reply= \"error\"\n",
    "    else: reply = ac_number\n",
    "    return reply\n",
    "ac_number = bank_account()\n",
    "secured_ac_number = \"XXXXXX\" + ac_number[6:] \n",
    "print(f\"the account number is {ac_number}\")\n",
    "print(f\"the secured number is {secured_ac_number}\")\n"
   ]
  },
  {
   "cell_type": "markdown",
   "metadata": {},
   "source": [
    "### It is better to limit the length of a string to avoid mistakes. Additionally, it is convenient to specify the number of replaced symbols, which would not make sense if the string length is always different."
   ]
  },
  {
   "cell_type": "markdown",
   "metadata": {},
   "source": []
  }
 ],
 "metadata": {
  "kernelspec": {
   "display_name": "Python 3",
   "language": "python",
   "name": "python3"
  },
  "language_info": {
   "codemirror_mode": {
    "name": "ipython",
    "version": 3
   },
   "file_extension": ".py",
   "mimetype": "text/x-python",
   "name": "python",
   "nbconvert_exporter": "python",
   "pygments_lexer": "ipython3",
   "version": "3.9.6"
  }
 },
 "nbformat": 4,
 "nbformat_minor": 2
}
