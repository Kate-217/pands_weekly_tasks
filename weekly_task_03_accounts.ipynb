{
 "cells": [
  {
   "cell_type": "markdown",
   "metadata": {},
   "source": [
    "# Weekly task 03 \n",
    "## accounts.py\n",
    "### The task:\n",
    "\n",
    "Bank account numbers can stored as 10 character strings, for security reasons some applications only display the last 4 characters (with the other other characters replaced with Xs).\n",
    "\n",
    "Write a python program called accounts.py that reads in a 10 character account number and outputs the account number with only the last 4 digits showing (and the first 6 digits replaced with Xs).\n",
    "\n",
    "$ python accounts.py\n",
    "Please enter an 10 digit account number: 1234567890\n",
    "XXXXXX7890"
   ]
  },
  {
   "cell_type": "code",
   "execution_count": 21,
   "metadata": {},
   "outputs": [
    {
     "name": "stdout",
     "output_type": "stream",
     "text": [
      "1234567890\n"
     ]
    }
   ],
   "source": [
    "# The function bank_account() takes the 10 digit number and return it if condition is true.\n",
    "#'account_number' is initial number\n",
    "#'ac_number' is checked account number\n",
    "# Author: K. Lisovenko\n",
    "\n",
    "account_number = input(\"Enter your 10 digit account number please\") \n",
    "\n",
    "def bank_account():\n",
    "    \n",
    "    if  len(str((account_number))) > 10:\n",
    "        reply = \"error\"\n",
    "    elif len(str((account_number))) < 10:\n",
    "        reply= \"error\"\n",
    "    else: reply = account_number\n",
    "    return reply\n",
    "ac_number = bank_account()\n",
    "print(ac_number)"
   ]
  },
  {
   "cell_type": "markdown",
   "metadata": {},
   "source": [
    "Now I can modify the function to replace the first 6 digit by X \n",
    "'secured_ac_number' is the account number with  replaced digits.\n",
    "Please, clear all outputs."
   ]
  },
  {
   "cell_type": "code",
   "execution_count": 20,
   "metadata": {},
   "outputs": [
    {
     "name": "stdout",
     "output_type": "stream",
     "text": [
      "the account number is 1234567890\n",
      "the secured number is XXXXXX7890\n"
     ]
    }
   ],
   "source": [
    "# The function bank_account() takes the 10 digit number and return it with 6 replaced simbols if condition is true.\n",
    "# Author: K. Lisovenko\n",
    "\n",
    "account_number = input(\"Enter your 10 digit account number please\") \n",
    "\n",
    "def bank_account():\n",
    "    \n",
    "    if  len(str((account_number))) > 10:\n",
    "        reply = \"error\"\n",
    "    elif len(str((account_number))) < 10:\n",
    "        reply= \"error\"\n",
    "    else: reply = account_number\n",
    "    return reply\n",
    "ac_number = bank_account()\n",
    "secured_ac_number = \"XXXXXX\" + ac_number[6:] \n",
    "print(f\"the account number is {ac_number}\")\n",
    "print(f\"the secured number is {secured_ac_number}\")\n"
   ]
  },
  {
   "cell_type": "markdown",
   "metadata": {},
   "source": [
    "#### It is better to limit the length of a string to avoid mistakes. Additionally, it is convenient to specify the number of replaced symbols, which would not make sense if the string length is always different."
   ]
  },
  {
   "cell_type": "markdown",
   "metadata": {},
   "source": []
  }
 ],
 "metadata": {
  "kernelspec": {
   "display_name": "Python 3",
   "language": "python",
   "name": "python3"
  },
  "language_info": {
   "codemirror_mode": {
    "name": "ipython",
    "version": 3
   },
   "file_extension": ".py",
   "mimetype": "text/x-python",
   "name": "python",
   "nbconvert_exporter": "python",
   "pygments_lexer": "ipython3",
   "version": "3.9.6"
  }
 },
 "nbformat": 4,
 "nbformat_minor": 2
}
