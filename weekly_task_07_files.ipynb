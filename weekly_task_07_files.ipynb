{
 "cells": [
  {
   "cell_type": "markdown",
   "metadata": {},
   "source": [
    "# Weekly task 7\n",
    "Write a program that reads in a text file and outputs the number of e's it contains. \n",
    "Document any assumptions you are making.\n",
    "\n",
    "The program should take the filename from an argument on the command line."
   ]
  },
  {
   "cell_type": "markdown",
   "metadata": {},
   "source": [
    "I am going to create a program that takes a text file as an argument, reads the file, and outputs the number of times the letter \"e\" appears in the text."
   ]
  },
  {
   "cell_type": "markdown",
   "metadata": {},
   "source": [
    "I suppose the text file should be created beforehand."
   ]
  },
  {
   "cell_type": "code",
   "execution_count": 32,
   "metadata": {},
   "outputs": [],
   "source": [
    "FILENAME = \"task07.txt\" # this is the name of the file are being created\n",
    "with open(FILENAME, 'wt') as f:\n",
    "    f.write(\"There is thy gold, worse poison to men's souls,\"    # the text I what to place in the file\n",
    "            \n",
    "\"Doing more murders in this loathsome world,\"\n",
    "\n",
    "\"Than these poor compounds that thou mayst not sell.\")"
   ]
  },
  {
   "cell_type": "markdown",
   "metadata": {},
   "source": [
    "Next I going to create a function which takes a file name as an argument. \n",
    "\n",
    "The number of letters will be calculated with count() function:\n",
    "\n",
    "ref: \n",
    "https://www.toppr.com/guides/python-guide/references/methods-and-functions/methods/string/count/python-string-count/#:~:text=To%20count%20specific%20characters%20in,only%20a%20single%20substring%20parameter.\n"
   ]
  },
  {
   "cell_type": "code",
   "execution_count": 55,
   "metadata": {},
   "outputs": [],
   "source": [
    "\n",
    "# The program count_e() takes in an argument \"filename\" and outputs a number of letters \"e\" in the text file.\n",
    "# Author Kate Lisovenko\n",
    "\n",
    "def count_e(filename):\n",
    "    with open(filename, 'r') as f: # here we can type in task07.txt \n",
    "        data = f.read()\n",
    "        e_count = data.count('e')\n",
    "    print(f\"There are {e_count} letters \"e\" in the text\")"
   ]
  },
  {
   "cell_type": "code",
   "execution_count": 56,
   "metadata": {},
   "outputs": [
    {
     "name": "stdout",
     "output_type": "stream",
     "text": [
      "There are 10 letters e in the text\n"
     ]
    }
   ],
   "source": [
    "# test: \n",
    "filename = input(\"Please type in the file name\")\n",
    "count_e(filename)\n"
   ]
  }
 ],
 "metadata": {
  "kernelspec": {
   "display_name": ".venv",
   "language": "python",
   "name": "python3"
  },
  "language_info": {
   "codemirror_mode": {
    "name": "ipython",
    "version": 3
   },
   "file_extension": ".py",
   "mimetype": "text/x-python",
   "name": "python",
   "nbconvert_exporter": "python",
   "pygments_lexer": "ipython3",
   "version": "3.12.2"
  }
 },
 "nbformat": 4,
 "nbformat_minor": 2
}
