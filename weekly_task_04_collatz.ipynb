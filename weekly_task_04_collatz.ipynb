{
 "cells": [
  {
   "cell_type": "markdown",
   "metadata": {},
   "source": [
    "# collatz.py"
   ]
  },
  {
   "cell_type": "markdown",
   "metadata": {},
   "source": [
    "The program asks the user to input any positive integer and outputs the successive values of the following calculation.\n",
    "At each step calculate the next value by taking the current value and, if it is even, divide it by two, but if it is odd, multiply it by three and add one.\n",
    "The program end if the current value is one.\n"
   ]
  },
  {
   "cell_type": "markdown",
   "metadata": {},
   "source": [
    "Author Kate Lisovenko"
   ]
  },
  {
   "cell_type": "code",
   "execution_count": 35,
   "metadata": {},
   "outputs": [
    {
     "name": "stdout",
     "output_type": "stream",
     "text": [
      "9 28 14 7 22 11 34 17 52 26 13 40 20 10 5 16 8 4 2 1 "
     ]
    }
   ],
   "source": [
    "\n",
    "# Input the number\n",
    "val = int(input(\"Enter any positive integer:\"))\n",
    "print(val, end = \" \") # print entered number, \"end =\"\" changes separator to make output on the same line\"\n",
    "\n",
    "while val !=1:      # cheking out if val  not equal to 1 on each itteration\n",
    "      \n",
    "    if (val % 2) == 0:       # the condition for even val\n",
    "        val = int(val / 2)\n",
    "    else:\n",
    "        val = int(val * 3 + 1)  # the condition for the odd one \n",
    "    \n",
    "    print (val, end = \" \")\n",
    "\n"
   ]
  }
 ],
 "metadata": {
  "kernelspec": {
   "display_name": "base",
   "language": "python",
   "name": "python3"
  },
  "language_info": {
   "codemirror_mode": {
    "name": "ipython",
    "version": 3
   },
   "file_extension": ".py",
   "mimetype": "text/x-python",
   "name": "python",
   "nbconvert_exporter": "python",
   "pygments_lexer": "ipython3",
   "version": "3.11.5"
  }
 },
 "nbformat": 4,
 "nbformat_minor": 2
}
