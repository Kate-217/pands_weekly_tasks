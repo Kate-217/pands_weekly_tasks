{
 "cells": [
  {
   "cell_type": "markdown",
   "metadata": {},
   "source": [
    "# The squareroot program.\n",
    "\n",
    "#### *Write a program that takes a positive floating-point number as input and outputs an approximation of its square root.*\n",
    "\n",
    "\n"
   ]
  },
  {
   "cell_type": "markdown",
   "metadata": {},
   "source": [
    "References:\n",
    "\n",
    "* https://www.youtube.com/watch?v=Q6rQ5fZFxLE&ab_channel=AntonFinogenov\n",
    "\n",
    "* https://proghunter.ru/articles/extracting-the-square-root-in-python#%D0%B8%D0%B7%D0%B2%D0%BB%D0%B5%D1%87%D0%B5%D0%BD%D0%B8%D0%B5-%D0%BA%D0%B2%D0%B0%D0%B4%D1%80%D0%B0%D1%82%D0%BD%D0%BE%D0%B3%D0%BE-%D0%BA%D0%BE%D1%80%D0%BD%D1%8F-%D0%BF%D0%BE-%D0%BC%D0%B5%D1%82%D0%BE%D0%B4%D1%83-%D0%BD%D1%8C%D1%8E%D1%82%D0%BE%D0%BD%D0%B0-%D0%BA%D0%B0%D1%81%D0%B0%D1%82%D0%B5%D0%BB%D1%8C%D0%BD%D1%8B%D1%85-%D0%B2-python\n",
    "* AI for fixing bugs.\n"
   ]
  },
  {
   "cell_type": "code",
   "execution_count": 2,
   "metadata": {},
   "outputs": [
    {
     "name": "stdout",
     "output_type": "stream",
     "text": [
      "8.240145630045618 is approximate square root of 67.9\n"
     ]
    }
   ],
   "source": [
    "# The program reads in the given number and calculates the square root of it using \n",
    "\n",
    "\n",
    "def square_root():\n",
    "    number = float(input(\"enter a positive number\")) \n",
    "    \n",
    "    # we are going to calculate X value, for the the statment  x^2 - number = 0\n",
    "    # for the start we can assume, that x = 0.1 that is the initial approximation.\n",
    "    # we will calculate the x using the Newton's formula on each itteration.\n",
    "    x = 0.1\n",
    "    while abs(x ** 2 - number) > 0.0001: # here we need to set the accuracy of calculations (also it might be added as argument of function)\n",
    "        x = x + (number - x ** 2) / (2 * x)\n",
    "        \n",
    "    \n",
    "    print(f'{x} is approximate square root of {number}')\n",
    "\n",
    "\n",
    "square_root()\n"
   ]
  },
  {
   "cell_type": "markdown",
   "metadata": {},
   "source": []
  },
  {
   "cell_type": "code",
   "execution_count": null,
   "metadata": {},
   "outputs": [],
   "source": []
  }
 ],
 "metadata": {
  "kernelspec": {
   "display_name": "Python 3",
   "language": "python",
   "name": "python3"
  },
  "language_info": {
   "codemirror_mode": {
    "name": "ipython",
    "version": 3
   },
   "file_extension": ".py",
   "mimetype": "text/x-python",
   "name": "python",
   "nbconvert_exporter": "python",
   "pygments_lexer": "ipython3",
   "version": "3.12.2"
  }
 },
 "nbformat": 4,
 "nbformat_minor": 2
}
