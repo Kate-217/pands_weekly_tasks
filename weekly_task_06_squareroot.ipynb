{
 "cells": [
  {
   "cell_type": "markdown",
   "metadata": {},
   "source": [
    "# The squareroot program.\n",
    "\n",
    "#### *Write a program that takes a positive floating-point number as input and outputs an approximation of its square root.*\n",
    "\n",
    "\n"
   ]
  },
  {
   "cell_type": "code",
   "execution_count": 34,
   "metadata": {},
   "outputs": [
    {
     "name": "stdout",
     "output_type": "stream",
     "text": [
      "9.327379058517305 is approximate square root of 87.0\n"
     ]
    }
   ],
   "source": [
    "\n",
    "def square_root():\n",
    "    number = float(input(\"enter a positive number\"))\n",
    "    \n",
    "    # we are going to calculate X value, for the the statment  x^2 - number = 0\n",
    "    # for the start we can assume, that x = 0.1.\n",
    "    \n",
    "    # If  it is not, we will calculate the x using the Newton's formula on each itteration.\n",
    "    x = 0.1\n",
    "    while abs(x ** 2 - number) > 0.0001: # here we need to set the accuracy of calculations (also it might be added as argument of function)\n",
    "        x = x + (number - x ** 2) / (2 * x)\n",
    "        \n",
    "    \n",
    "    print(f'{x} is approximate square root of {number}')\n",
    "\n",
    "\n",
    "square_root()\n"
   ]
  },
  {
   "cell_type": "markdown",
   "metadata": {},
   "source": []
  },
  {
   "cell_type": "code",
   "execution_count": null,
   "metadata": {},
   "outputs": [],
   "source": []
  }
 ],
 "metadata": {
  "kernelspec": {
   "display_name": "Python 3",
   "language": "python",
   "name": "python3"
  },
  "language_info": {
   "codemirror_mode": {
    "name": "ipython",
    "version": 3
   },
   "file_extension": ".py",
   "mimetype": "text/x-python",
   "name": "python",
   "nbconvert_exporter": "python",
   "pygments_lexer": "ipython3",
   "version": "3.9.6"
  }
 },
 "nbformat": 4,
 "nbformat_minor": 2
}
